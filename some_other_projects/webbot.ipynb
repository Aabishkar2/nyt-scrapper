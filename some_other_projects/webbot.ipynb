{
 "cells": [
  {
   "cell_type": "code",
   "execution_count": null,
   "metadata": {},
   "outputs": [],
   "source": [
    "import selenium\n",
    "from selenium import webdriver \n",
    "from selenium.webdriver.chrome.options import Options \n",
    "from selenium.common.exceptions import NoSuchElementException\n",
    "from selenium.webdriver.support.ui import Select\n",
    "import pandas as pd\n",
    "\n",
    "chrome_options = Options()  \n",
    "chrome_options.add_argument(\"--headless\") \n",
    "# driver = webdriver.Chrome(options=chrome_options) #without opening browser\n",
    "driver = webdriver.Chrome()\n",
    "driver.get(\"http://www.merolagani.com/StockQuote.aspx\")\n",
    "\n",
    "daterange = pd.date_range('2011-01-01', '2011-12-31')\n",
    "dates = []\n",
    "for single_date in daterange:\n",
    "    dte = single_date.strftime(\"%m/%d/%Y\")\n",
    "    dates.append(dte)\n",
    "\n",
    "top_data = ['Date','#', 'Symbol', 'LTP', '% Change', 'High', 'Low', 'Open', 'Qty.', 'Turnover']\n",
    "\n",
    "\n",
    "symbol = driver.find_element_by_xpath(\"//*[@id='ctl00_ContentPlaceHolder1_AutoSuggestCompany_txtAutoSuggest']\")\n",
    "symbol.send_keys('ADBL')\n",
    "all_data = []\n",
    "\n",
    "for datte in dates:\n",
    "    date = driver.find_element_by_xpath(\"//*[@id='ctl00_ContentPlaceHolder1_txtMarketDateFilter']\")\n",
    "    date.clear()\n",
    "    date.send_keys(datte)\n",
    "    filt = driver.find_element_by_xpath(\"//*[@id='ctl00_ContentPlaceHolder1_lbtnSearch']\")\n",
    "    filt.click()\n",
    "    buttom_data = []\n",
    "    try:   \n",
    "        data_row = driver.find_element_by_tag_name(\"tbody\")\n",
    "        table_data_row = data_row.find_elements_by_tag_name('td')\n",
    "        buttom_data.append(datte)\n",
    "        for i in range(0,len(table_data_row)):\n",
    "            buttom_data.append(table_data_row[i].text)\n",
    "        all_data.append(buttom_data)\n",
    "    except:\n",
    "        pass\n",
    "driver.quit()\n",
    "df = pd.DataFrame(all_data,columns=top_data)\n",
    "df = df.drop('#', axis=1)\n",
    "df.to_csv('data11.csv', encoding='utf-8', index=False)\n",
    "print(df)"
   ]
  }
 ],
 "metadata": {
  "kernelspec": {
   "display_name": "Python 3",
   "language": "python",
   "name": "python3"
  },
  "language_info": {
   "codemirror_mode": {
    "name": "ipython",
    "version": 3
   },
   "file_extension": ".py",
   "mimetype": "text/x-python",
   "name": "python",
   "nbconvert_exporter": "python",
   "pygments_lexer": "ipython3",
   "version": "3.7.0"
  }
 },
 "nbformat": 4,
 "nbformat_minor": 2
}
