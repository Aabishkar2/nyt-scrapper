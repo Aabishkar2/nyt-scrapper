{
 "cells": [
  {
   "cell_type": "code",
   "execution_count": 1,
   "metadata": {},
   "outputs": [],
   "source": [
    "import talib\n",
    "import numpy as np\n",
    "import pandas as pd\n",
    "from sklearn.metrics import accuracy_score as score\n",
    "from sklearn.model_selection import train_test_split "
   ]
  },
  {
   "cell_type": "code",
   "execution_count": 2,
   "metadata": {},
   "outputs": [
    {
     "data": {
      "text/plain": [
       "Date         object\n",
       "Symbol       object\n",
       "LTP          object\n",
       "% Change    float64\n",
       "High         object\n",
       "Low          object\n",
       "Open         object\n",
       "Qty.         object\n",
       "Turnover     object\n",
       "Status        int64\n",
       "dtype: object"
      ]
     },
     "execution_count": 2,
     "metadata": {},
     "output_type": "execute_result"
    }
   ],
   "source": [
    "df = pd.read_csv('dataupdated.csv')\n",
    "df.head()\n",
    "df.dtypes"
   ]
  },
  {
   "cell_type": "code",
   "execution_count": 3,
   "metadata": {},
   "outputs": [
    {
     "data": {
      "text/html": [
       "<div>\n",
       "<style scoped>\n",
       "    .dataframe tbody tr th:only-of-type {\n",
       "        vertical-align: middle;\n",
       "    }\n",
       "\n",
       "    .dataframe tbody tr th {\n",
       "        vertical-align: top;\n",
       "    }\n",
       "\n",
       "    .dataframe thead th {\n",
       "        text-align: right;\n",
       "    }\n",
       "</style>\n",
       "<table border=\"1\" class=\"dataframe\">\n",
       "  <thead>\n",
       "    <tr style=\"text-align: right;\">\n",
       "      <th></th>\n",
       "      <th>Date</th>\n",
       "      <th>Symbol</th>\n",
       "      <th>LTP</th>\n",
       "      <th>% Change</th>\n",
       "      <th>High</th>\n",
       "      <th>Low</th>\n",
       "      <th>Open</th>\n",
       "      <th>Qty.</th>\n",
       "      <th>Turnover</th>\n",
       "      <th>Status</th>\n",
       "    </tr>\n",
       "  </thead>\n",
       "  <tbody>\n",
       "    <tr>\n",
       "      <th>0</th>\n",
       "      <td>1/2/2011</td>\n",
       "      <td>ADBL</td>\n",
       "      <td>136</td>\n",
       "      <td>-4.90</td>\n",
       "      <td>145</td>\n",
       "      <td>134</td>\n",
       "      <td>143</td>\n",
       "      <td>10,768</td>\n",
       "      <td>1,516,505.00</td>\n",
       "      <td>1</td>\n",
       "    </tr>\n",
       "    <tr>\n",
       "      <th>1</th>\n",
       "      <td>1/3/2011</td>\n",
       "      <td>ADBL</td>\n",
       "      <td>137</td>\n",
       "      <td>0.74</td>\n",
       "      <td>140</td>\n",
       "      <td>135</td>\n",
       "      <td>136</td>\n",
       "      <td>4,292</td>\n",
       "      <td>588,806.00</td>\n",
       "      <td>-1</td>\n",
       "    </tr>\n",
       "    <tr>\n",
       "      <th>2</th>\n",
       "      <td>1/4/2011</td>\n",
       "      <td>ADBL</td>\n",
       "      <td>139</td>\n",
       "      <td>1.46</td>\n",
       "      <td>139</td>\n",
       "      <td>133</td>\n",
       "      <td>137</td>\n",
       "      <td>5,048</td>\n",
       "      <td>696,161.00</td>\n",
       "      <td>1</td>\n",
       "    </tr>\n",
       "    <tr>\n",
       "      <th>3</th>\n",
       "      <td>1/5/2011</td>\n",
       "      <td>ADBL</td>\n",
       "      <td>132</td>\n",
       "      <td>-5.04</td>\n",
       "      <td>140</td>\n",
       "      <td>132</td>\n",
       "      <td>139</td>\n",
       "      <td>5,588</td>\n",
       "      <td>763,980.00</td>\n",
       "      <td>1</td>\n",
       "    </tr>\n",
       "    <tr>\n",
       "      <th>4</th>\n",
       "      <td>1/6/2011</td>\n",
       "      <td>ADBL</td>\n",
       "      <td>140</td>\n",
       "      <td>6.06</td>\n",
       "      <td>140</td>\n",
       "      <td>132</td>\n",
       "      <td>132</td>\n",
       "      <td>590</td>\n",
       "      <td>80,520.00</td>\n",
       "      <td>-1</td>\n",
       "    </tr>\n",
       "  </tbody>\n",
       "</table>\n",
       "</div>"
      ],
      "text/plain": [
       "       Date Symbol  LTP  % Change High  Low Open    Qty.      Turnover  Status\n",
       "0  1/2/2011   ADBL  136     -4.90  145  134  143  10,768  1,516,505.00       1\n",
       "1  1/3/2011   ADBL  137      0.74  140  135  136   4,292    588,806.00      -1\n",
       "2  1/4/2011   ADBL  139      1.46  139  133  137   5,048    696,161.00       1\n",
       "3  1/5/2011   ADBL  132     -5.04  140  132  139   5,588    763,980.00       1\n",
       "4  1/6/2011   ADBL  140      6.06  140  132  132     590     80,520.00      -1"
      ]
     },
     "execution_count": 3,
     "metadata": {},
     "output_type": "execute_result"
    }
   ],
   "source": [
    "df.head()"
   ]
  },
  {
   "cell_type": "code",
   "execution_count": 4,
   "metadata": {},
   "outputs": [],
   "source": [
    "df.drop(columns=['Symbol', 'LTP', '% Change','Qty.','Turnover'],axis=1, inplace=True)"
   ]
  },
  {
   "cell_type": "code",
   "execution_count": 5,
   "metadata": {},
   "outputs": [],
   "source": [
    "# Features for Time Series\n",
    "df['DateTime'] = pd.to_datetime(df.Date)\n",
    "df['year'] = df['DateTime'].dt.year\n",
    "df['month'] = df['DateTime'].dt.month\n",
    "df['Open'] = df.Open.astype(str)\n",
    "df['High'] = df.Open.astype(str)\n",
    "df['Low'] = df.Open.astype(str)\n",
    "df['Open'] = df['Open'].str.replace(',', '').astype(float)\n",
    "df['High'] = df['High'].str.replace(',', '').astype(float)\n",
    "df['Low'] = df['Low'].str.replace(',', '').astype(float)\n",
    "df['day'] = df['DateTime'].dt.day\n",
    "df['30d_avg'] = df['Open'].rolling(window=30, center=False).mean()\n",
    "df['Std'] = df['Open'].rolling(window=30, center=False).std()"
   ]
  },
  {
   "cell_type": "code",
   "execution_count": 6,
   "metadata": {},
   "outputs": [
    {
     "data": {
      "text/html": [
       "<div>\n",
       "<style scoped>\n",
       "    .dataframe tbody tr th:only-of-type {\n",
       "        vertical-align: middle;\n",
       "    }\n",
       "\n",
       "    .dataframe tbody tr th {\n",
       "        vertical-align: top;\n",
       "    }\n",
       "\n",
       "    .dataframe thead th {\n",
       "        text-align: right;\n",
       "    }\n",
       "</style>\n",
       "<table border=\"1\" class=\"dataframe\">\n",
       "  <thead>\n",
       "    <tr style=\"text-align: right;\">\n",
       "      <th></th>\n",
       "      <th>Date</th>\n",
       "      <th>High</th>\n",
       "      <th>Low</th>\n",
       "      <th>Open</th>\n",
       "      <th>Status</th>\n",
       "      <th>DateTime</th>\n",
       "      <th>year</th>\n",
       "      <th>month</th>\n",
       "      <th>day</th>\n",
       "      <th>30d_avg</th>\n",
       "      <th>Std</th>\n",
       "      <th>RSI</th>\n",
       "      <th>Williams %R</th>\n",
       "    </tr>\n",
       "  </thead>\n",
       "  <tbody>\n",
       "    <tr>\n",
       "      <th>1579</th>\n",
       "      <td>12/24/2017</td>\n",
       "      <td>420.0</td>\n",
       "      <td>420.0</td>\n",
       "      <td>420.0</td>\n",
       "      <td>1</td>\n",
       "      <td>2017-12-24</td>\n",
       "      <td>2017</td>\n",
       "      <td>12</td>\n",
       "      <td>24</td>\n",
       "      <td>427.166667</td>\n",
       "      <td>7.358239</td>\n",
       "      <td>44.612225</td>\n",
       "      <td>-81.250000</td>\n",
       "    </tr>\n",
       "    <tr>\n",
       "      <th>1580</th>\n",
       "      <td>12/26/2017</td>\n",
       "      <td>421.0</td>\n",
       "      <td>421.0</td>\n",
       "      <td>421.0</td>\n",
       "      <td>1</td>\n",
       "      <td>2017-12-26</td>\n",
       "      <td>2017</td>\n",
       "      <td>12</td>\n",
       "      <td>26</td>\n",
       "      <td>427.333333</td>\n",
       "      <td>7.150275</td>\n",
       "      <td>45.366171</td>\n",
       "      <td>-69.230769</td>\n",
       "    </tr>\n",
       "    <tr>\n",
       "      <th>1581</th>\n",
       "      <td>12/27/2017</td>\n",
       "      <td>413.0</td>\n",
       "      <td>413.0</td>\n",
       "      <td>413.0</td>\n",
       "      <td>-1</td>\n",
       "      <td>2017-12-27</td>\n",
       "      <td>2017</td>\n",
       "      <td>12</td>\n",
       "      <td>27</td>\n",
       "      <td>427.266667</td>\n",
       "      <td>7.277425</td>\n",
       "      <td>40.604345</td>\n",
       "      <td>-100.000000</td>\n",
       "    </tr>\n",
       "    <tr>\n",
       "      <th>1582</th>\n",
       "      <td>12/28/2017</td>\n",
       "      <td>408.0</td>\n",
       "      <td>408.0</td>\n",
       "      <td>408.0</td>\n",
       "      <td>-1</td>\n",
       "      <td>2017-12-28</td>\n",
       "      <td>2017</td>\n",
       "      <td>12</td>\n",
       "      <td>28</td>\n",
       "      <td>426.666667</td>\n",
       "      <td>8.082904</td>\n",
       "      <td>37.924983</td>\n",
       "      <td>-100.000000</td>\n",
       "    </tr>\n",
       "    <tr>\n",
       "      <th>1583</th>\n",
       "      <td>12/31/2017</td>\n",
       "      <td>409.0</td>\n",
       "      <td>409.0</td>\n",
       "      <td>409.0</td>\n",
       "      <td>1</td>\n",
       "      <td>2017-12-31</td>\n",
       "      <td>2017</td>\n",
       "      <td>12</td>\n",
       "      <td>31</td>\n",
       "      <td>425.966667</td>\n",
       "      <td>8.672125</td>\n",
       "      <td>38.794867</td>\n",
       "      <td>-92.307692</td>\n",
       "    </tr>\n",
       "  </tbody>\n",
       "</table>\n",
       "</div>"
      ],
      "text/plain": [
       "            Date   High    Low   Open  Status   DateTime  year  month  day  \\\n",
       "1579  12/24/2017  420.0  420.0  420.0       1 2017-12-24  2017     12   24   \n",
       "1580  12/26/2017  421.0  421.0  421.0       1 2017-12-26  2017     12   26   \n",
       "1581  12/27/2017  413.0  413.0  413.0      -1 2017-12-27  2017     12   27   \n",
       "1582  12/28/2017  408.0  408.0  408.0      -1 2017-12-28  2017     12   28   \n",
       "1583  12/31/2017  409.0  409.0  409.0       1 2017-12-31  2017     12   31   \n",
       "\n",
       "         30d_avg       Std        RSI  Williams %R  \n",
       "1579  427.166667  7.358239  44.612225   -81.250000  \n",
       "1580  427.333333  7.150275  45.366171   -69.230769  \n",
       "1581  427.266667  7.277425  40.604345  -100.000000  \n",
       "1582  426.666667  8.082904  37.924983  -100.000000  \n",
       "1583  425.966667  8.672125  38.794867   -92.307692  "
      ]
     },
     "execution_count": 6,
     "metadata": {},
     "output_type": "execute_result"
    }
   ],
   "source": [
    "# Features for Time Series\n",
    "df['RSI'] = talib.RSI(df['Open'].values, timeperiod = 14) #relative strength index\n",
    "df['Williams %R'] = talib.WILLR(df['High'].values, df['Low'].values, df['Open'].values, 7) \n",
    "df.tail()"
   ]
  },
  {
   "cell_type": "code",
   "execution_count": 7,
   "metadata": {},
   "outputs": [],
   "source": [
    "X = df.iloc[31:,6:]\n",
    "Y = df.iloc[31:,4]"
   ]
  },
  {
   "cell_type": "code",
   "execution_count": 8,
   "metadata": {},
   "outputs": [],
   "source": [
    "x_train,x_test,y_train,y_test = train_test_split(X, Y, test_size=0.05, random_state=2)"
   ]
  },
  {
   "cell_type": "code",
   "execution_count": 9,
   "metadata": {},
   "outputs": [],
   "source": [
    "x_train = np.array(x_train)\n",
    "y_train = np.array(y_train)\n",
    "x_test = np.array(x_test)\n",
    "y_test = np.array(y_test)"
   ]
  },
  {
   "cell_type": "code",
   "execution_count": 10,
   "metadata": {},
   "outputs": [],
   "source": [
    "from sklearn.preprocessing import StandardScaler\n",
    "sc = StandardScaler()\n",
    "x_train = sc.fit_transform(x_train)\n",
    "x_test = sc.transform(x_test)"
   ]
  },
  {
   "cell_type": "code",
   "execution_count": 245,
   "metadata": {},
   "outputs": [
    {
     "data": {
      "text/plain": [
       "RandomForestClassifier(bootstrap=True, class_weight=None, criterion='gini',\n",
       "            max_depth=None, max_features='auto', max_leaf_nodes=None,\n",
       "            min_impurity_decrease=0.0, min_impurity_split=None,\n",
       "            min_samples_leaf=1, min_samples_split=2,\n",
       "            min_weight_fraction_leaf=0.0, n_estimators=100, n_jobs=None,\n",
       "            oob_score=False, random_state=18, verbose=0, warm_start=False)"
      ]
     },
     "execution_count": 245,
     "metadata": {},
     "output_type": "execute_result"
    }
   ],
   "source": [
    "from sklearn.ensemble import RandomForestClassifier as rfc\n",
    "rf = rfc(bootstrap=True, class_weight=None, criterion='gini',\n",
    "            max_depth=None, max_features='auto', max_leaf_nodes=None,\n",
    "            min_impurity_decrease=0.0, min_impurity_split=None,\n",
    "            min_samples_leaf=1, min_samples_split=2,\n",
    "            min_weight_fraction_leaf=0.0, n_estimators=100, n_jobs=None,\n",
    "            oob_score=False, random_state=18, verbose=0,\n",
    "            warm_start=False)\n",
    "rf.fit(x_train, y_train)"
   ]
  },
  {
   "cell_type": "code",
   "execution_count": 246,
   "metadata": {},
   "outputs": [
    {
     "data": {
      "text/plain": [
       "array([ 1,  1,  1, -1, -1, -1, -1,  0,  1,  1, -1, -1, -1,  1, -1,  0,  0,\n",
       "       -1,  0, -1,  1,  1,  1, -1,  1, -1,  1,  1, -1, -1,  1,  1,  1, -1,\n",
       "       -1, -1, -1, -1, -1, -1,  1,  1, -1,  1,  1, -1,  1, -1,  1,  1,  1,\n",
       "       -1,  0,  1,  1, -1,  1, -1, -1,  1,  1, -1,  1,  1, -1, -1, -1,  1,\n",
       "        1, -1,  0, -1, -1, -1,  1,  1,  1, -1])"
      ]
     },
     "execution_count": 246,
     "metadata": {},
     "output_type": "execute_result"
    }
   ],
   "source": [
    "rfc_prediction = rf.predict(x_test)\n",
    "rfc_prediction"
   ]
  },
  {
   "cell_type": "code",
   "execution_count": 249,
   "metadata": {},
   "outputs": [
    {
     "data": {
      "text/plain": [
       "58.97435897435898"
      ]
     },
     "execution_count": 249,
     "metadata": {},
     "output_type": "execute_result"
    }
   ],
   "source": [
    "rfc_accuracy = score(rfc_prediction, y_test) * 100\n",
    "rfc_accuracy"
   ]
  },
  {
   "cell_type": "markdown",
   "metadata": {},
   "source": [
    "Average calculation of Random Forest Classifier with different n_estimators value which is number of decision trees used."
   ]
  },
  {
   "cell_type": "code",
   "execution_count": 255,
   "metadata": {},
   "outputs": [
    {
     "data": {
      "text/plain": [
       "[60, 70, 80, 90, 100, 110, 120, 130, 140, 150]"
      ]
     },
     "execution_count": 255,
     "metadata": {},
     "output_type": "execute_result"
    }
   ],
   "source": [
    "n_estimators = []\n",
    "for i in range(60,160,10):\n",
    "    n_estimators.append(i)\n",
    "n_estimators    "
   ]
  },
  {
   "cell_type": "code",
   "execution_count": 257,
   "metadata": {},
   "outputs": [],
   "source": [
    "rfc_accuracies = []\n",
    "for i in n_estimators:\n",
    "    rf = rfc(bootstrap=True, class_weight=None, criterion='gini',\n",
    "                max_depth=None, max_features='auto', max_leaf_nodes=None,\n",
    "                min_impurity_decrease=0.0, min_impurity_split=None,\n",
    "                min_samples_leaf=1, min_samples_split=2,\n",
    "                min_weight_fraction_leaf=0.0, n_estimators=i, n_jobs=None,\n",
    "                oob_score=False, random_state=18, verbose=0,\n",
    "                warm_start=False)\n",
    "    rf.fit(x_train, y_train)\n",
    "    rfc_prediction = rf.predict(x_test)\n",
    "    rfc_accuracy = score(rfc_prediction, y_test) * 100\n",
    "    rfc_accuracies.append(rfc_accuracy)"
   ]
  },
  {
   "cell_type": "code",
   "execution_count": 258,
   "metadata": {},
   "outputs": [
    {
     "data": {
      "text/plain": [
       "[60.256410256410255,\n",
       " 57.692307692307686,\n",
       " 57.692307692307686,\n",
       " 57.692307692307686,\n",
       " 58.97435897435898,\n",
       " 58.97435897435898,\n",
       " 60.256410256410255,\n",
       " 58.97435897435898,\n",
       " 58.97435897435898,\n",
       " 58.97435897435898]"
      ]
     },
     "execution_count": 258,
     "metadata": {},
     "output_type": "execute_result"
    }
   ],
   "source": [
    "rfc_accuracies"
   ]
  },
  {
   "cell_type": "code",
   "execution_count": 260,
   "metadata": {},
   "outputs": [
    {
     "data": {
      "text/plain": [
       "58.846153846153854"
      ]
     },
     "execution_count": 260,
     "metadata": {},
     "output_type": "execute_result"
    }
   ],
   "source": [
    "average = pd.Series(rfc_accuracies).mean()\n",
    "average"
   ]
  },
  {
   "cell_type": "markdown",
   "metadata": {},
   "source": [
    "So, the Random Forest Classifier has average accuracy rate of around 59 percent."
   ]
  }
 ],
 "metadata": {
  "kernelspec": {
   "display_name": "Python 3",
   "language": "python",
   "name": "python3"
  },
  "language_info": {
   "codemirror_mode": {
    "name": "ipython",
    "version": 3
   },
   "file_extension": ".py",
   "mimetype": "text/x-python",
   "name": "python",
   "nbconvert_exporter": "python",
   "pygments_lexer": "ipython3",
   "version": "3.7.0"
  }
 },
 "nbformat": 4,
 "nbformat_minor": 2
}
