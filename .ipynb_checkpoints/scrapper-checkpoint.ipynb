{
 "cells": [
  {
   "cell_type": "code",
   "execution_count": 5,
   "metadata": {},
   "outputs": [],
   "source": [
    "import requests\n",
    "from bs4 import BeautifulSoup\n",
    "import pandas as pd\n",
    "import json"
   ]
  },
  {
   "cell_type": "code",
   "execution_count": 6,
   "metadata": {},
   "outputs": [],
   "source": [
    "url = \"https://www.nytimes.com/section/technology\"\n",
    "gethtml = requests.get(url)\n",
    "html = gethtml.text\n",
    "bs = BeautifulSoup(html, \"lxml\")\n",
    "news_list = bs.findAll('li',{'class':'css-ye6x8s'})"
   ]
  },
  {
   "cell_type": "code",
   "execution_count": 39,
   "metadata": {},
   "outputs": [],
   "source": [
    "df = pd.DataFrame(columns=['title','text','writer','full_link'])\n",
    "for i in news_list:\n",
    "    title = i.find('h2',{'class':'css-1dq8tca'})\n",
    "    text = i.find('p',{'class':'e1xfvim31'})\n",
    "    writer = i.find('span',{'class':'css-1n7hynb'})\n",
    "    link = i.find('a', href=True) \n",
    "    a_link = link['href']\n",
    "    full_link = \"\"\"https://www.nytimes.com/%s\"\"\"%a_link\n",
    "    title = title.text.strip()\n",
    "    text = text.text.strip()\n",
    "    writer = writer.text.strip()  \n",
    "    lists = [title,text,writer,full_link]\n",
    "    a = pd.DataFrame([lists],columns=['title','text','writer','full_link'])\n",
    "    df = df.append(a)"
   ]
  },
  {
   "cell_type": "code",
   "execution_count": 42,
   "metadata": {},
   "outputs": [],
   "source": [
    "json_output = df.to_json(orient='records')"
   ]
  },
  {
   "cell_type": "code",
   "execution_count": 9,
   "metadata": {},
   "outputs": [],
   "source": [
    "url = \"https://www.nytimes.com/2019/03/18/technology/china-us-500-million-supercomputer.html\"\n",
    "gethtml = requests.get(url)\n",
    "html = gethtml.text\n",
    "bs = BeautifulSoup(html, \"lxml\")\n",
    "content = bs.find('section',{'class':'css-1i2y565'}) "
   ]
  },
  {
   "cell_type": "code",
   "execution_count": 15,
   "metadata": {},
   "outputs": [],
   "source": [
    "text = content.findAll('p',{'class':'evys1bk0'})"
   ]
  },
  {
   "cell_type": "code",
   "execution_count": 17,
   "metadata": {},
   "outputs": [
    {
     "name": "stdout",
     "output_type": "stream",
     "text": [
      "SAN FRANCISCO — The Department of Energy disclosed details on Monday of one of the most expensive computers being built: a $500 million machine based on Intel and Cray technology that may become crucial in a high-stakes technology race between the United States and China.\n",
      "The supercomputer, called Aurora, is a retooling of a development effort first announced in 2015 and is scheduled to be delivered to the Argonne National Laboratory near Chicago in 2021. Lab officials predict it will be the first American machine to reach a milestone called “exascale” performance, surpassing a quintillion calculations per second.\n",
      "That’s roughly seven times the speed rating of the most powerful system built to date, or 1,000 times faster than the first “petascale” systems that began arriving in 2008. Backers hope the new machines will let researchers create significantly more accurate simulations of phenomena such as drug responses, climate changes, the inner workings of combustion engines and solar panels.\n",
      "Supercomputers, which play a major role in tasks such as weapons design and code-breaking, have long been considered a proxy for national competitiveness in science and technology. The United States led the field for decades, but China has become an aggressive rival.\n",
      "An IBM system called Summit, built for the Oak Ridge National Laboratory in Tennessee, took back the No. 1 position last year on a twice-yearly ranking of the world’s 500 most powerful systems — a spot held by China for five years. But China leads by another key measure: It accounted for 227 systems on the Top 500 list, compared with 109 for the United States.\n",
      "Aurora — which is also designed to exploit new advances in the field of artificial intelligence, including machine learning techniques pushed lately by the likes of Google and Facebook — may not crack the new speed barrier first. Jack Dongarra, a computer scientist at the University of Tennessee who monitors global developments, is tracking plans for three systems in China that are scheduled to be delivered in 2020 with exascale performance.\n",
      "In addition, Mr. Dongarra said, the Energy Department is expected to follow Aurora with exascale class systems at the Oak Ridge National Laboratory and Lawrence Livermore National Laboratory, near San Francisco.\n",
      "Supercomputer speeds are not usually discussed much until machines run standard performance tests. But the stakes associated with the shift to exascale systems, and their enormous price tags, have attracted outsize attention. The energy secretary, Rick Perry, who took part in the event discussing Aurora on Monday, announced a plan last year to spend up to $1.8 billion on two to three exascale systems.\n",
      "Aurora, which far exceeds the $200 million price for Summit, represents a record government contract for Intel and a test of its continued leadership in supercomputers. The Silicon Valley giant’s popular processors — the calculating engine for nearly all personal computers and server systems — power most such machines. But additional accelerator chips are considered essential to reach the very highest speeds, and its rival Nvidia has built a sizable business adapting chips first used with video games for use in supercomputers.\n",
      "The version of Aurora announced in 2015 was based on an Intel accelerator chip that the company later discontinued. A revised plan to seek more ambitious performance targets was announced two years later.\n",
      "Features discussed on Monday include unreleased Intel accelerator chips, a version of its standard Xeon processor, new memory and communications technology and a design that packages chips on top of one another to save space and power.\n",
      "Cray, a longtime supercomputer maker, is providing a system design called Shasta, as well as technology to speed the flow of data inside Aurora, said Peter J. Ungaro, the company’s chief executive. Intel and Cray are also supplying new software to make advanced supercomputers easier to program.\n",
      "“We want to make exascale computing available to everyone,” said Raja M. Koduri, senior vice president of Intel’s core and visual computing group.\n",
      "Rick L. Stevens, an associate laboratory director at Argonne, acknowledged that Aurora represented a gamble on a collection of new technologies.\n",
      "“We have to take risks in order to advance the state of the art,” he said. “If you don’t do that, you won’t be on the leading edge of technology.”\n"
     ]
    }
   ],
   "source": [
    "for i in text:\n",
    "    print(i.text.strip())"
   ]
  },
  {
   "cell_type": "code",
   "execution_count": 52,
   "metadata": {},
   "outputs": [
    {
     "ename": "TypeError",
     "evalue": "unsupported operand type(s) for +: 'Tag' and 'str'",
     "output_type": "error",
     "traceback": [
      "\u001b[0;31m---------------------------------------------------------------------------\u001b[0m",
      "\u001b[0;31mTypeError\u001b[0m                                 Traceback (most recent call last)",
      "\u001b[0;32m<ipython-input-52-45a9155af85a>\u001b[0m in \u001b[0;36m<module>\u001b[0;34m()\u001b[0m\n\u001b[1;32m     17\u001b[0m     \u001b[0mtext\u001b[0m \u001b[0;34m=\u001b[0m \u001b[0mcontent\u001b[0m\u001b[0;34m.\u001b[0m\u001b[0mfindAll\u001b[0m\u001b[0;34m(\u001b[0m\u001b[0;34m'p'\u001b[0m\u001b[0;34m,\u001b[0m\u001b[0;34m{\u001b[0m\u001b[0;34m'class'\u001b[0m\u001b[0;34m:\u001b[0m\u001b[0;34m'evys1bk0'\u001b[0m\u001b[0;34m}\u001b[0m\u001b[0;34m)\u001b[0m\u001b[0;34m\u001b[0m\u001b[0m\n\u001b[1;32m     18\u001b[0m     \u001b[0;32mfor\u001b[0m \u001b[0mi\u001b[0m \u001b[0;32min\u001b[0m \u001b[0mtext\u001b[0m\u001b[0;34m:\u001b[0m\u001b[0;34m\u001b[0m\u001b[0m\n\u001b[0;32m---> 19\u001b[0;31m         \u001b[0mcontent\u001b[0m \u001b[0;34m=\u001b[0m \u001b[0mcontent\u001b[0m \u001b[0;34m+\u001b[0m \u001b[0mi\u001b[0m\u001b[0;34m.\u001b[0m\u001b[0mtext\u001b[0m\u001b[0;34m.\u001b[0m\u001b[0mstrip\u001b[0m\u001b[0;34m(\u001b[0m\u001b[0;34m)\u001b[0m\u001b[0;34m\u001b[0m\u001b[0m\n\u001b[0m\u001b[1;32m     20\u001b[0m     \u001b[0mtitle\u001b[0m \u001b[0;34m=\u001b[0m \u001b[0mtitle\u001b[0m\u001b[0;34m.\u001b[0m\u001b[0mtext\u001b[0m\u001b[0;34m.\u001b[0m\u001b[0mstrip\u001b[0m\u001b[0;34m(\u001b[0m\u001b[0;34m)\u001b[0m\u001b[0;34m\u001b[0m\u001b[0m\n\u001b[1;32m     21\u001b[0m     \u001b[0mtext\u001b[0m \u001b[0;34m=\u001b[0m \u001b[0mtext\u001b[0m\u001b[0;34m.\u001b[0m\u001b[0mtext\u001b[0m\u001b[0;34m.\u001b[0m\u001b[0mstrip\u001b[0m\u001b[0;34m(\u001b[0m\u001b[0;34m)\u001b[0m\u001b[0;34m\u001b[0m\u001b[0m\n",
      "\u001b[0;31mTypeError\u001b[0m: unsupported operand type(s) for +: 'Tag' and 'str'"
     ]
    }
   ],
   "source": [
    "df = pd.DataFrame(columns=['title','text','writer','content'])\n",
    "for i in news_list:\n",
    "    content = ''\n",
    "    title = i.find('h2',{'class':'css-1dq8tca'})\n",
    "    text = i.find('p',{'class':'e1xfvim31'})\n",
    "    writer = i.find('span',{'class':'css-1n7hynb'})\n",
    "    title = title.text.strip()\n",
    "    text = text.text.strip()\n",
    "    writer = writer.text.strip()  \n",
    "    link = i.find('a', href=True) \n",
    "    a_link = link['href']\n",
    "    full_link = \"\"\"https://www.nytimes.com/%s\"\"\"%a_link \n",
    "    gethtml = requests.get(full_link)\n",
    "    html = gethtml.text\n",
    "    bs = BeautifulSoup(html, \"lxml\")\n",
    "    content = bs.find('section',{'class':'css-1i2y565'}) \n",
    "    text = content.findAll('p',{'class':'evys1bk0'})\n",
    "    for i in text:\n",
    "        content = content + i.text.strip()\n",
    "    title = title.text.strip()\n",
    "    text = text.text.strip()\n",
    "    writer = writer.text.strip()  \n",
    "    lists = [title,text,writer,full_link,content]\n",
    "    a = pd.DataFrame([lists],columns=['title','text','writer','content'])"
   ]
  },
  {
   "cell_type": "code",
   "execution_count": null,
   "metadata": {},
   "outputs": [],
   "source": []
  }
 ],
 "metadata": {
  "kernelspec": {
   "display_name": "Python 3",
   "language": "python",
   "name": "python3"
  },
  "language_info": {
   "codemirror_mode": {
    "name": "ipython",
    "version": 3
   },
   "file_extension": ".py",
   "mimetype": "text/x-python",
   "name": "python",
   "nbconvert_exporter": "python",
   "pygments_lexer": "ipython3",
   "version": "3.7.0"
  }
 },
 "nbformat": 4,
 "nbformat_minor": 2
}
